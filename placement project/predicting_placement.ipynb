{
  "nbformat": 4,
  "nbformat_minor": 0,
  "metadata": {
    "colab": {
      "provenance": []
    },
    "kernelspec": {
      "name": "python3",
      "display_name": "Python 3"
    },
    "language_info": {
      "name": "python"
    }
  },
  "cells": [
    {
      "cell_type": "code",
      "execution_count": 26,
      "metadata": {
        "colab": {
          "base_uri": "https://localhost:8080/"
        },
        "id": "W40z-ebaX02G",
        "outputId": "4002f697-4cf1-4a2f-9752-4a2fc521b921"
      },
      "outputs": [
        {
          "output_type": "stream",
          "name": "stdout",
          "text": [
            "[1]\n"
          ]
        }
      ],
      "source": [
        "import pickle\n",
        "model = pickle.load(open('model.pkl','rb'))\n",
        "print(model.predict([[5,1]]))"
      ]
    },
    {
      "cell_type": "code",
      "source": [],
      "metadata": {
        "id": "y2I7YCQGYV_M"
      },
      "execution_count": null,
      "outputs": []
    }
  ]
}